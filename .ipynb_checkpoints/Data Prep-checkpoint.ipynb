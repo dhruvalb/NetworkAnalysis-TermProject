{
 "cells": [
  {
   "cell_type": "code",
   "execution_count": 111,
   "metadata": {},
   "outputs": [],
   "source": [
    "import pandas as pd\n",
    "import glob\n",
    "import re\n",
    "import numpy as np"
   ]
  },
  {
   "cell_type": "code",
   "execution_count": 83,
   "metadata": {},
   "outputs": [],
   "source": [
    "oecd_countries = ['australia', 'austria', 'belgium', 'brazil', 'canada', 'chile', 'china', 'czechia', 'denmark', 'estonia', 'finland', 'france', 'germany', 'greece', 'hungary', 'iceland', 'india', 'ireland', 'israel', 'italy', 'japan', 'korea', 'latvia', 'lithuania', 'luxembourg', 'mexico', 'netherlands', 'new zealand', 'norway', 'poland', 'portugal', 'slovakia', 'slovenia', 'spain', 'sweden', 'switzerland', 'turkey', 'united kingdom', 'usa', 'rep. of korea']\n",
    "#breiger_commodity = [0, 2, 3, 6]\n",
    "orig_countries = ['austria', 'belgium', 'belgium-luxembourg', 'canada', 'denmark', 'france', 'germany', 'greece', 'iceland', 'ireland', 'luxembourg','netherlands', 'norway', 'portugal', 'spain', 'sweden', 'switzerland', 'turkey', 'united kingdom', 'usa', 'italy', 'japan', 'finland', 'australia', 'israel', 'yugoslavia', 'usa (before 1981)', 'fmr fed. rep. of germany', 'fmr yugoslavia']\n",
    "\n",
    "columns = ['Classification', 'Period', 'Period Desc.', 'Aggregate Level',\n",
    "       'Is Leaf Code','Reporter Code', 'Reporter ISO', 'Partner Code', 'Partner ISO',\n",
    "       '2nd Partner Code', '2nd Partner', '2nd Partner ISO',\n",
    "       'Customs Proc. Code', 'Customs', 'Mode of Transport Code', 'Trade Flow Code', \n",
    "       'Mode of Transport', 'Qty Unit Code',\n",
    "       'Qty Unit', 'Qty', 'Alt Qty Unit Code', 'Alt Qty Unit', 'Alt Qty',\n",
    "       'Netweight (kg)', 'Gross weight (kg)', 'CIF Trade Value (US$)', 'FOB Trade Value (US$)', 'Flag']"
   ]
  },
  {
   "cell_type": "code",
   "execution_count": 84,
   "metadata": {},
   "outputs": [],
   "source": [
    "# Combine all files in 2008\n",
    "path2007 = r'C:\\Users\\Dhruval\\Documents\\MACSS\\2019_Autumn\\Network Analysis\\NetworkAnalysis_Project\\Raw Data 2007'\n",
    "path2008 = r'C:\\Users\\Dhruval\\Documents\\MACSS\\2019_Autumn\\Network Analysis\\NetworkAnalysis_Project\\Raw Data 2008' # use your path\n",
    "path2013 = r'C:\\Users\\Dhruval\\Documents\\MACSS\\2019_Autumn\\Network Analysis\\NetworkAnalysis_Project\\Raw Data 2013'\n",
    "path2018 = r'C:\\Users\\Dhruval\\Documents\\MACSS\\2019_Autumn\\Network Analysis\\NetworkAnalysis_Project\\Raw Data 2018'\n",
    "path1972 = r'C:\\Users\\Dhruval\\Documents\\MACSS\\2019_Autumn\\Network Analysis\\NetworkAnalysis_Project\\Raw Data 1972'"
   ]
  },
  {
   "cell_type": "code",
   "execution_count": 85,
   "metadata": {},
   "outputs": [],
   "source": [
    "#Function to combine data files\n",
    "\n",
    "def combine_data(path):\n",
    "    all_files = glob.glob(path + \"/*.csv\")\n",
    "    \n",
    "    li = []\n",
    "\n",
    "    for filename in all_files:\n",
    "        df = pd.read_csv(filename, index_col=None, header=0)\n",
    "        li.append(df)\n",
    "\n",
    "    data = pd.concat(li, axis=0, ignore_index=True)\n",
    "    return data\n",
    "\n",
    "def clean_data(data):\n",
    "    data.drop(columns=columns, inplace=True) #drop any column that is not needed\n",
    "    \n",
    "    #lower the strings\n",
    "    data['Reporter'] = data['Reporter'].str.lower()\n",
    "    data['Partner'] = data['Partner'].str.lower()\n",
    "    data['Trade Flow'] = data['Trade Flow'].str.lower()\n",
    "\n",
    "    #Remove all re-imports and re-exports\n",
    "    data = data.drop(data[data['Trade Flow'] == 're-import'].index)\n",
    "    data = data.drop(data[data['Trade Flow'] == 're-export'].index)\n",
    "#     #Remove this line later if want export values\n",
    "#     data = data.drop(data[data['Trade Flow'] == 'export'].index)\n",
    "    \n",
    "    #Filter out trade within nation\n",
    "    data = data[data['Reporter'] != data['Partner']]\n",
    "    \n",
    "    #Remove partner countries that are not in the list\n",
    "    data = data[data['Partner'].isin(oecd_countries)]\n",
    "    \n",
    "    #Remove reporter countries that are not in the list\n",
    "    data = data[data['Reporter'].isin(oecd_countries)]\n",
    "\n",
    "    return data\n",
    "\n",
    "def save_data(path, file_name):\n",
    "    data = combine_data(path)\n",
    "    dataframe = clean_data(data)\n",
    "    file = r'C:\\\\Users\\\\Dhruval\\\\Documents\\\\MACSS\\\\2019_Autumn\\\\Network Analysis\\\\NetworkAnalysis_Project\\\\Data\\'' + file_name + '.csv'\n",
    "    #file = r'C:\\Users\\Dhruval\\Documents\\MACSS\\2019_Autumn\\Network Analysis\\NetworkAnalysis_Project\\Data\\'' + file_name + '.csv'\n",
    "    dataframe.to_csv(file, index=False)"
   ]
  },
  {
   "cell_type": "code",
   "execution_count": 86,
   "metadata": {},
   "outputs": [],
   "source": [
    "def clean_1972(data):\n",
    "    data.drop(columns=columns, inplace=True) #drop any column that is not needed\n",
    "    \n",
    "    #lower the strings\n",
    "    data['Reporter'] = data['Reporter'].str.lower()\n",
    "    data['Partner'] = data['Partner'].str.lower()\n",
    "    data['Trade Flow'] = data['Trade Flow'].str.lower()\n",
    "\n",
    "    #Remove all re-imports and re-exports\n",
    "    data = data.drop(data[data['Trade Flow'] == 're-import'].index)\n",
    "    data = data.drop(data[data['Trade Flow'] == 're-export'].index)\n",
    "    \n",
    "    #Filter out trade within nation\n",
    "    data = data[data['Reporter'] != data['Partner']]\n",
    "    \n",
    "    #Remove partner countries that are not in the list\n",
    "    data = data[data['Partner'].isin(orig_countries)]\n",
    "    \n",
    "    #Remove reporter countries that are not in the list\n",
    "    data = data[data['Reporter'].isin(orig_countries)]\n",
    "       \n",
    "    data.replace(to_replace = 'usa (before 1981)', value ='usa', inplace=True)\n",
    "    data.replace(to_replace = 'fmr fed. rep. of germany', value = 'germany', inplace=True)\n",
    "    data.replace(to_replace = 'fmr yugoslavia', value = 'yugoslavia', inplace=True)\n",
    "    \n",
    "    return data\n",
    "\n",
    "def save_1972(path, file_name):\n",
    "    data = combine_data(path)\n",
    "    dataframe = clean_1972(data)\n",
    "    file = r'C:\\\\Users\\\\Dhruval\\\\Documents\\\\MACSS\\\\2019_Autumn\\\\Network Analysis\\\\NetworkAnalysis_Project\\\\Data\\'' + file_name + '.csv'\n",
    "    #file = r'C:\\Users\\Dhruval\\Documents\\MACSS\\2019_Autumn\\Network Analysis\\NetworkAnalysis_Project\\Data\\'' + file_name + '.csv'\n",
    "    dataframe.to_csv(file, index=False)"
   ]
  },
  {
   "cell_type": "code",
   "execution_count": 87,
   "metadata": {},
   "outputs": [],
   "source": [
    "# Combine to create Final DataSets\n",
    "save_data(path2007, 'data2007')\n",
    "save_data(path2008, 'data2008')\n",
    "save_data(path2013, 'data2013')\n",
    "save_data(path2018, 'data2018')\n",
    "\n",
    "save_1972(path1972, 'data1972')"
   ]
  },
  {
   "cell_type": "code",
   "execution_count": 88,
   "metadata": {},
   "outputs": [],
   "source": [
    "#Load Data\n",
    "data2007 = pd.read_csv(r'C:\\Users\\Dhruval\\Documents\\MACSS\\2019_Autumn\\Network Analysis\\NetworkAnalysis_Project\\Data\\'data2007.csv')\n",
    "data2008 = pd.read_csv(r'C:\\Users\\Dhruval\\Documents\\MACSS\\2019_Autumn\\Network Analysis\\NetworkAnalysis_Project\\Data\\'data2008.csv')\n",
    "data2013 = pd.read_csv(r'C:\\Users\\Dhruval\\Documents\\MACSS\\2019_Autumn\\Network Analysis\\NetworkAnalysis_Project\\Data\\'data2013.csv')\n",
    "data2018 = pd.read_csv(r'C:\\Users\\Dhruval\\Documents\\MACSS\\2019_Autumn\\Network Analysis\\NetworkAnalysis_Project\\Data\\'data2018.csv')\n",
    "data1972 = pd.read_csv(r'C:\\Users\\Dhruval\\Documents\\MACSS\\2019_Autumn\\Network Analysis\\NetworkAnalysis_Project\\Data\\'data1972.csv')"
   ]
  },
  {
   "cell_type": "code",
   "execution_count": 89,
   "metadata": {},
   "outputs": [],
   "source": [
    "def com_square(data, filename, commodity_code):\n",
    "    '''\n",
    "    Create an import and export matrix for all the countries for a given commodity code of the original data\n",
    "    '''\n",
    "    com_data = data[data['Commodity Code'] == commodity_code]\n",
    "    \n",
    "    ie_matrix = com_data.groupby(['Reporter', 'Partner'],as_index = False)['Trade Value (US$)'].sum().pivot('Reporter', 'Partner').fillna(0)\n",
    "    ie_matrix.columns = ie_matrix.columns.droplevel(0)\n",
    "    del ie_matrix.index.name\n",
    "    \n",
    "    #Save to File\n",
    "    file = r'C:\\Users\\Dhruval\\Documents\\MACSS\\2019_Autumn\\Network Analysis\\NetworkAnalysis_Project\\Data\\'' + filename + '.csv'\n",
    "    ie_matrix.to_csv(file, index=True)\n",
    "    \n",
    "    return ie_matrix"
   ]
  },
  {
   "cell_type": "code",
   "execution_count": 168,
   "metadata": {},
   "outputs": [],
   "source": [
    "#1972 \n",
    "agr1972 = com_square(data1972, 'agr1972', 0)\n",
    "raw1972 = com_square(data1972, 'raw1972', 2)\n",
    "man1972 = com_square(data1972, 'man1972', 3)\n",
    "enr1972 = com_square(data1972, 'enr1972', 6)\n",
    "\n",
    "#2007\n",
    "agr2007 = com_square(data2007, 'agr2007', 0)\n",
    "raw2007 = com_square(data2007, 'raw2007', 2)\n",
    "man2007 = com_square(data2007, 'man2007', 3)\n",
    "enr2007 = com_square(data2007, 'enr2007', 6)\n",
    "\n",
    "#2008 \n",
    "agr2008 = com_square(data2008, 'agr2008', 0)\n",
    "raw2008 = com_square(data2008, 'raw2008', 2)\n",
    "man2008 = com_square(data2008, 'man2008', 3)\n",
    "enr2008 = com_square(data2008, 'enr2008', 6)\n",
    "\n",
    "#2013\n",
    "agr2013 = com_square(data2013, 'agr2013', 0)\n",
    "raw2013 = com_square(data2013, 'raw2013', 2)\n",
    "man2013 = com_square(data2013, 'man2013', 3)\n",
    "enr2013 = com_square(data2013, 'enr2013', 6)\n",
    "\n",
    "#2018\n",
    "agr2018 = com_square(data2018, 'agr2018', 0)\n",
    "raw2018 = com_square(data2018, 'raw2018', 2)\n",
    "man2018 = com_square(data2018, 'man2018', 3)\n",
    "enr2018 = com_square(data2018, 'enr2018', 6)"
   ]
  },
  {
   "cell_type": "code",
   "execution_count": 91,
   "metadata": {},
   "outputs": [],
   "source": [
    "def nocom_square(data, filename, commodity_code):\n",
    "    'Function to make a matrix for all commodity, except for the one specified'\n",
    "    \n",
    "    com_data = data[data['Commodity Code'] != commodity_code]\n",
    "    \n",
    "    ie_matrix = data.groupby(['Reporter', 'Partner'],as_index = False)['Trade Value (US$)'].sum().pivot('Reporter', 'Partner').fillna(0)\n",
    "    ie_matrix.columns = ie_matrix.columns.droplevel(0)\n",
    "    del ie_matrix.index.name\n",
    "        \n",
    "    #Save to File\n",
    "    file = r'C:\\Users\\Dhruval\\Documents\\MACSS\\2019_Autumn\\Network Analysis\\NetworkAnalysis_Project\\Data\\'' + filename + '.csv'\n",
    "    ie_matrix.to_csv(file, index=True)\n",
    "    \n",
    "    return ie_matrix"
   ]
  },
  {
   "cell_type": "code",
   "execution_count": 92,
   "metadata": {},
   "outputs": [],
   "source": [
    "# nocom_square(data2018, 'all2018_m1', 6)\n",
    "# nocom_square(data2008, 'all2008_m1', 6)\n",
    "# nocom_square(data2007, 'all2007_m1', 6)\n",
    "# nocom_square(data2013, 'all2013_m1', 6)\n",
    "# nocom_square(data1972, 'all1972_m1', 6)"
   ]
  },
  {
   "cell_type": "code",
   "execution_count": 93,
   "metadata": {},
   "outputs": [],
   "source": [
    "def square(data, filename):\n",
    "    '''\n",
    "    Create an import and export matrix for all the countries\n",
    "    '''\n",
    "    com_data = data\n",
    "    \n",
    "    ie_matrix = com_data.groupby(['Reporter', 'Partner'],as_index = False)['Trade Value (US$)'].sum().pivot('Reporter', 'Partner').fillna(0)\n",
    "    ie_matrix.columns = ie_matrix.columns.droplevel(0)\n",
    "    del ie_matrix.index.name\n",
    "    \n",
    "    #Save to File\n",
    "    file = r'C:\\Users\\Dhruval\\Documents\\MACSS\\2019_Autumn\\Network Analysis\\NetworkAnalysis_Project\\Data\\'' + filename + '.csv'\n",
    "    ie_matrix.to_csv(file, index=True)"
   ]
  },
  {
   "cell_type": "code",
   "execution_count": 94,
   "metadata": {},
   "outputs": [],
   "source": [
    "square(data2018, 'all2018')\n",
    "square(data2008, 'all2008')\n",
    "square(data2007, 'all2007')\n",
    "square(data2013, 'all2013')\n",
    "square(data1972, 'all1972')"
   ]
  },
  {
   "cell_type": "code",
   "execution_count": 95,
   "metadata": {},
   "outputs": [],
   "source": [
    "def orig_square(data, filename):\n",
    "    '''\n",
    "    Create an import and export matrix for only the original countries\n",
    "    '''\n",
    "     #Remove partner countries that are not in the list\n",
    "    data = data[data['Partner'].isin(orig_countries)]\n",
    "    \n",
    "    #Remove reporter countries that are not in the list\n",
    "    data = data[data['Reporter'].isin(orig_countries)]\n",
    "    \n",
    "    com_data = data\n",
    "    \n",
    "    ie_matrix = com_data.groupby(['Reporter', 'Partner'],as_index = False)['Trade Value (US$)'].sum().pivot('Reporter', 'Partner').fillna(0)\n",
    "    ie_matrix.columns = ie_matrix.columns.droplevel(0)\n",
    "    del ie_matrix.index.name\n",
    "    \n",
    "    #Save to File\n",
    "    file = r'C:\\Users\\Dhruval\\Documents\\MACSS\\2019_Autumn\\Network Analysis\\NetworkAnalysis_Project\\Data\\'' + filename + '.csv'\n",
    "    ie_matrix.to_csv(file, index=True)"
   ]
  },
  {
   "cell_type": "code",
   "execution_count": 96,
   "metadata": {},
   "outputs": [],
   "source": [
    "orig_square(data2018, 'o_all2018')\n",
    "orig_square(data2008, 'o_all2008')\n",
    "orig_square(data2007, 'o_all2007')\n",
    "orig_square(data2013, 'o_all2013')"
   ]
  },
  {
   "cell_type": "markdown",
   "metadata": {},
   "source": [
    "### Analysis Step 1: Block Model on Man Goods "
   ]
  },
  {
   "cell_type": "code",
   "execution_count": 169,
   "metadata": {},
   "outputs": [],
   "source": [
    "def create_top5th(o_data, filename):\n",
    "    '''Create and save a matrix with only the values that are in the top 5th of interior cell values'''\n",
    "    data = o_data.copy()\n",
    "    top_5th = np.percentile(data, 95)\n",
    "    data.replace(data.where(data < top_5th), 0 , inplace=True)\n",
    "    data.replace(data.where(data > top_5th), 1, inplace=True)\n",
    "    #Save to File\n",
    "    file = r'C:\\Users\\Dhruval\\Documents\\MACSS\\2019_Autumn\\Network Analysis\\NetworkAnalysis_Project\\Data\\'' + filename + '.csv'\n",
    "    data.to_csv(file, index=True)"
   ]
  },
  {
   "cell_type": "code",
   "execution_count": 171,
   "metadata": {},
   "outputs": [],
   "source": [
    "#1972 \n",
    "agr1972_b = create_top5th(agr1972, 'agr1972_b')\n",
    "raw1972_b = create_top5th(raw1972, 'raw1972_b')\n",
    "man1972_b = create_top5th(man1972, 'man1972_b')\n",
    "enr1972_b = create_top5th(enr1972, 'enr1972_b')\n",
    "\n",
    "#2007\n",
    "agr2007_b = create_top5th(agr2007, 'agr2007_b')\n",
    "raw2007_b = create_top5th(raw2007, 'raw2007_b')\n",
    "man2007_b = create_top5th(man2007, 'man2007_b')\n",
    "enr2007_b = create_top5th(enr2007, 'enr2007_b')\n",
    "\n",
    "#2008 \n",
    "agr2008_b = create_top5th(agr2008, 'agr2008_b')\n",
    "raw2008_b = create_top5th(raw2008, 'raw2008_b')\n",
    "man2008_b = create_top5th(man2008, 'man2008_b')\n",
    "enr2008_b = create_top5th(enr2008, 'enr2008_b')\n",
    "\n",
    "#2013\n",
    "agr2013_b = create_top5th(agr2013, 'agr2013_b')\n",
    "raw2013_b = create_top5th(raw2013, 'raw2013_b')\n",
    "man2013_b = create_top5th(man2013, 'man2013_b')\n",
    "enr2013_b = create_top5th(enr2013, 'enr2013_b')\n",
    "\n",
    "#2018\n",
    "agr2018_b = create_top5th(agr2018, 'agr2018_b')\n",
    "raw2018_b = create_top5th(raw2018, 'raw2018_b')\n",
    "man2018_b = create_top5th(man2018, 'man2018_b')\n",
    "enr2018_b = create_top5th(enr2018, 'enr2018_b')"
   ]
  }
 ],
 "metadata": {
  "kernelspec": {
   "display_name": "Python 3",
   "language": "python",
   "name": "python3"
  },
  "language_info": {
   "codemirror_mode": {
    "name": "ipython",
    "version": 3
   },
   "file_extension": ".py",
   "mimetype": "text/x-python",
   "name": "python",
   "nbconvert_exporter": "python",
   "pygments_lexer": "ipython3",
   "version": "3.7.0"
  }
 },
 "nbformat": 4,
 "nbformat_minor": 2
}
