{
 "cells": [
  {
   "cell_type": "code",
   "execution_count": 1,
   "metadata": {},
   "outputs": [],
   "source": [
    "import pandas as pd\n",
    "import glob\n",
    "import re"
   ]
  },
  {
   "cell_type": "code",
   "execution_count": 2,
   "metadata": {},
   "outputs": [],
   "source": [
    "countries = ['australia', 'austria', 'belgium', 'brazil', 'canada', 'chile', 'china', 'czechia', 'denmark', 'estonia', 'finland', 'france', 'germany', 'greece', 'hungary', 'iceland', 'india', 'ireland', 'israel', 'italy', 'japan', 'korea', 'latvia', 'lithuania', 'luxembourg', 'mexico', 'netherlands', 'new zealand', 'norway', 'poland', 'portugal', 'slovakia', 'slovenia', 'spain', 'sweden', 'switzerland', 'turkey', 'united kingdom', 'usa', 'rep. of korea']\n",
    "breiger_commodity = [0, 2, 3, 6]"
   ]
  },
  {
   "cell_type": "code",
   "execution_count": 3,
   "metadata": {},
   "outputs": [],
   "source": [
    "test_countries = ['australia', 'austria', 'belgium', 'usa']"
   ]
  },
  {
   "cell_type": "code",
   "execution_count": 4,
   "metadata": {},
   "outputs": [],
   "source": [
    "# Combine all files\n",
    "path = r'C:\\Users\\Dhruval\\Documents\\MACSS\\2019_Autumn\\Network Analysis\\NetworkAnalysis_Project\\Raw Data 2008' # use your path\n",
    "all_files = glob.glob(path + \"/*.csv\")\n",
    "\n",
    "li = []\n",
    "\n",
    "for filename in all_files:\n",
    "    df = pd.read_csv(filename, index_col=None, header=0)\n",
    "    li.append(df)\n",
    "\n",
    "data = pd.concat(li, axis=0, ignore_index=True)"
   ]
  },
  {
   "cell_type": "code",
   "execution_count": 5,
   "metadata": {},
   "outputs": [],
   "source": [
    "#Drop Columns\n",
    "data.drop(columns=['Classification', 'Period', 'Period Desc.', 'Aggregate Level',\n",
    "       'Is Leaf Code','Reporter Code', 'Reporter ISO', 'Partner Code', 'Partner ISO',\n",
    "       '2nd Partner Code', '2nd Partner', '2nd Partner ISO',\n",
    "       'Customs Proc. Code', 'Customs', 'Mode of Transport Code', 'Trade Flow Code', \n",
    "       'Mode of Transport', 'Qty Unit Code',\n",
    "       'Qty Unit', 'Qty', 'Alt Qty Unit Code', 'Alt Qty Unit', 'Alt Qty',\n",
    "       'Netweight (kg)', 'Gross weight (kg)', 'CIF Trade Value (US$)', 'FOB Trade Value (US$)', 'Flag'], inplace=True)"
   ]
  },
  {
   "cell_type": "code",
   "execution_count": 6,
   "metadata": {},
   "outputs": [],
   "source": [
    "#lower the strings\n",
    "data['Reporter'] = data['Reporter'].str.lower()\n",
    "data['Partner'] = data['Partner'].str.lower()\n",
    "data['Trade Flow'] = data['Trade Flow'].str.lower()\n",
    "\n",
    "#Remove all re-imports\n",
    "data = data.drop(data[data['Trade Flow'] == 're-import'].index)\n",
    "\n",
    "#Remove countries that are not in the list\n",
    "data = data[data['Partner'].isin(countries)]"
   ]
  },
  {
   "cell_type": "code",
   "execution_count": 7,
   "metadata": {},
   "outputs": [
    {
     "data": {
      "text/html": [
       "<div>\n",
       "<style scoped>\n",
       "    .dataframe tbody tr th:only-of-type {\n",
       "        vertical-align: middle;\n",
       "    }\n",
       "\n",
       "    .dataframe tbody tr th {\n",
       "        vertical-align: top;\n",
       "    }\n",
       "\n",
       "    .dataframe thead th {\n",
       "        text-align: right;\n",
       "    }\n",
       "</style>\n",
       "<table border=\"1\" class=\"dataframe\">\n",
       "  <thead>\n",
       "    <tr style=\"text-align: right;\">\n",
       "      <th></th>\n",
       "      <th>Year</th>\n",
       "      <th>Trade Flow</th>\n",
       "      <th>Reporter</th>\n",
       "      <th>Partner</th>\n",
       "      <th>Commodity Code</th>\n",
       "      <th>Commodity</th>\n",
       "      <th>Trade Value (US$)</th>\n",
       "    </tr>\n",
       "  </thead>\n",
       "  <tbody>\n",
       "    <tr>\n",
       "      <th>16</th>\n",
       "      <td>2008</td>\n",
       "      <td>import</td>\n",
       "      <td>belgium</td>\n",
       "      <td>australia</td>\n",
       "      <td>0</td>\n",
       "      <td>Food and live animals</td>\n",
       "      <td>48254628</td>\n",
       "    </tr>\n",
       "    <tr>\n",
       "      <th>17</th>\n",
       "      <td>2008</td>\n",
       "      <td>export</td>\n",
       "      <td>belgium</td>\n",
       "      <td>australia</td>\n",
       "      <td>0</td>\n",
       "      <td>Food and live animals</td>\n",
       "      <td>88635334</td>\n",
       "    </tr>\n",
       "    <tr>\n",
       "      <th>18</th>\n",
       "      <td>2008</td>\n",
       "      <td>import</td>\n",
       "      <td>belgium</td>\n",
       "      <td>austria</td>\n",
       "      <td>0</td>\n",
       "      <td>Food and live animals</td>\n",
       "      <td>73722599</td>\n",
       "    </tr>\n",
       "    <tr>\n",
       "      <th>19</th>\n",
       "      <td>2008</td>\n",
       "      <td>export</td>\n",
       "      <td>belgium</td>\n",
       "      <td>austria</td>\n",
       "      <td>0</td>\n",
       "      <td>Food and live animals</td>\n",
       "      <td>356414938</td>\n",
       "    </tr>\n",
       "    <tr>\n",
       "      <th>35</th>\n",
       "      <td>2008</td>\n",
       "      <td>import</td>\n",
       "      <td>belgium</td>\n",
       "      <td>brazil</td>\n",
       "      <td>0</td>\n",
       "      <td>Food and live animals</td>\n",
       "      <td>1188635965</td>\n",
       "    </tr>\n",
       "  </tbody>\n",
       "</table>\n",
       "</div>"
      ],
      "text/plain": [
       "    Year Trade Flow Reporter    Partner  Commodity Code  \\\n",
       "16  2008     import  belgium  australia               0   \n",
       "17  2008     export  belgium  australia               0   \n",
       "18  2008     import  belgium    austria               0   \n",
       "19  2008     export  belgium    austria               0   \n",
       "35  2008     import  belgium     brazil               0   \n",
       "\n",
       "                Commodity  Trade Value (US$)  \n",
       "16  Food and live animals           48254628  \n",
       "17  Food and live animals           88635334  \n",
       "18  Food and live animals           73722599  \n",
       "19  Food and live animals          356414938  \n",
       "35  Food and live animals         1188635965  "
      ]
     },
     "execution_count": 7,
     "metadata": {},
     "output_type": "execute_result"
    }
   ],
   "source": [
    "data.head()"
   ]
  },
  {
   "cell_type": "code",
   "execution_count": 9,
   "metadata": {},
   "outputs": [],
   "source": [
    "data_matrix = data.groupby(['Reporter', 'Partner'],as_index = False)['Trade Value (US$)'].sum().pivot('Reporter', 'Partner').fillna(0)\n",
    "data_matrix.columns = data_matrix.columns.droplevel(0)\n",
    "del data_matrix.index.name\n",
    "\n",
    "#Save full dataset to file\n",
    "data_matrix.to_csv(r'C:\\Users\\Dhruval\\Documents\\MACSS\\2019_Autumn\\Network Analysis\\NetworkAnalysis_Project\\Raw Data 2008\\data_matrix.csv', index=True)"
   ]
  },
  {
   "cell_type": "code",
   "execution_count": 9,
   "metadata": {},
   "outputs": [],
   "source": [
    "data_export = data[data['Trade Flow'] == 'export']\n",
    "\n",
    "#Create Export Matrix File\n",
    "\n",
    "ex_matrix = data_export.groupby(['Reporter', 'Partner'],as_index = False)['Trade Value (US$)'].sum().pivot('Reporter', 'Partner').fillna(0)\n",
    "ex_matrix.columns = ex_matrix.columns.droplevel(0)\n",
    "del ex_matrix.index.name\n",
    "\n",
    "#Save full dataset to file\n",
    "ex_matrix.to_csv(r'C:\\Users\\Dhruval\\Documents\\MACSS\\2019_Autumn\\Network Analysis\\NetworkAnalysis_Project\\Raw Data 2008\\ex_matrix.csv', index=True)"
   ]
  },
  {
   "cell_type": "code",
   "execution_count": 10,
   "metadata": {},
   "outputs": [],
   "source": [
    "data_import = data[data['Trade Flow'] == 'import']\n",
    "\n",
    "#Create Import Matrix File \n",
    "\n",
    "im_matrix = data_import.groupby(['Reporter', 'Partner'],as_index = False)['Trade Value (US$)'].sum().pivot('Reporter', 'Partner').fillna(0)\n",
    "im_matrix.columns = im_matrix.columns.droplevel(0)\n",
    "del im_matrix.index.name\n",
    "\n",
    "#Save full dataset to file\n",
    "im_matrix.to_csv(r'C:\\Users\\Dhruval\\Documents\\MACSS\\2019_Autumn\\Network Analysis\\NetworkAnalysis_Project\\Raw Data 2008\\im_matrix.csv', index=True)"
   ]
  },
  {
   "cell_type": "code",
   "execution_count": 37,
   "metadata": {},
   "outputs": [],
   "source": [
    "im_ex = ex_matrix + im_matrix\n",
    "\n",
    "im_ex.head()\n",
    "#Save full dataset to file\n",
    "im_matrix.to_csv(r'C:\\Users\\Dhruval\\Documents\\MACSS\\2019_Autumn\\Network Analysis\\NetworkAnalysis_Project\\Raw Data 2008\\im_ex.csv', index=True)"
   ]
  },
  {
   "cell_type": "code",
   "execution_count": 42,
   "metadata": {},
   "outputs": [],
   "source": [
    "agr_data = data[data['Commodity Code'] == 0]\n",
    "agr_matrix = agr_data.groupby(['Reporter', 'Partner'],as_index = False)['Trade Value (US$)'].sum().pivot('Reporter', 'Partner').fillna(0)\n",
    "agr_matrix.columns = agr_matrix.columns.droplevel(0)\n",
    "del agr_matrix.index.name\n",
    "\n",
    "#Save full dataset to file\n",
    "agr_matrix.to_csv(r'C:\\Users\\Dhruval\\Documents\\MACSS\\2019_Autumn\\Network Analysis\\NetworkAnalysis_Project\\Raw Data 2008\\agr_m.csv', index=True)"
   ]
  },
  {
   "cell_type": "code",
   "execution_count": 43,
   "metadata": {},
   "outputs": [],
   "source": [
    "raw_data = data[data['Commodity Code'] == 2]\n",
    "raw_matrix = raw_data.groupby(['Reporter', 'Partner'],as_index = False)['Trade Value (US$)'].sum().pivot('Reporter', 'Partner').fillna(0)\n",
    "raw_matrix.columns = raw_matrix.columns.droplevel(0)\n",
    "del raw_matrix.index.name\n",
    "\n",
    "#Save full dataset to file\n",
    "raw_matrix.to_csv(r'C:\\Users\\Dhruval\\Documents\\MACSS\\2019_Autumn\\Network Analysis\\NetworkAnalysis_Project\\Raw Data 2008\\raw_m.csv', index=True)"
   ]
  },
  {
   "cell_type": "code",
   "execution_count": 44,
   "metadata": {},
   "outputs": [],
   "source": [
    "man_data = data[data['Commodity Code'] == 6]\n",
    "man_matrix = man_data.groupby(['Reporter', 'Partner'],as_index = False)['Trade Value (US$)'].sum().pivot('Reporter', 'Partner').fillna(0)\n",
    "man_matrix.columns = man_matrix.columns.droplevel(0)\n",
    "del man_matrix.index.name\n",
    "\n",
    "#Save full dataset to file\n",
    "man_matrix.to_csv(r'C:\\Users\\Dhruval\\Documents\\MACSS\\2019_Autumn\\Network Analysis\\NetworkAnalysis_Project\\Raw Data 2008\\man_m.csv', index=True)"
   ]
  },
  {
   "cell_type": "code",
   "execution_count": 45,
   "metadata": {},
   "outputs": [],
   "source": [
    "enr_data = data[data['Commodity Code'] == 3]\n",
    "enr_matrix = enr_data.groupby(['Reporter', 'Partner'],as_index = False)['Trade Value (US$)'].sum().pivot('Reporter', 'Partner').fillna(0)\n",
    "enr_matrix.columns = enr_matrix.columns.droplevel(0)\n",
    "del enr_matrix.index.name\n",
    "\n",
    "#Save full dataset to file\n",
    "enr_matrix.to_csv(r'C:\\Users\\Dhruval\\Documents\\MACSS\\2019_Autumn\\Network Analysis\\NetworkAnalysis_Project\\Raw Data 2008\\enr_m.csv', index=True)"
   ]
  },
  {
   "cell_type": "code",
   "execution_count": null,
   "metadata": {},
   "outputs": [],
   "source": []
  }
 ],
 "metadata": {
  "kernelspec": {
   "display_name": "Python 3",
   "language": "python",
   "name": "python3"
  },
  "language_info": {
   "codemirror_mode": {
    "name": "ipython",
    "version": 3
   },
   "file_extension": ".py",
   "mimetype": "text/x-python",
   "name": "python",
   "nbconvert_exporter": "python",
   "pygments_lexer": "ipython3",
   "version": "3.7.0"
  }
 },
 "nbformat": 4,
 "nbformat_minor": 2
}
