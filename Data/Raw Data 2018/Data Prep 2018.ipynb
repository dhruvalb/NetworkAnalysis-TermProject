{
 "cells": [
  {
   "cell_type": "code",
   "execution_count": 39,
   "metadata": {},
   "outputs": [],
   "source": [
    "import pandas as pd\n",
    "import glob\n",
    "import re\n",
    "import numpy"
   ]
  },
  {
   "cell_type": "code",
   "execution_count": 2,
   "metadata": {},
   "outputs": [],
   "source": [
    "countries = ['australia', 'austria', 'belgium', 'brazil', 'canada', 'chile', 'china', 'czechia', 'denmark', 'estonia', 'finland', 'france', 'germany', 'greece', 'hungary', 'iceland', 'india', 'ireland', 'israel', 'italy', 'japan', 'korea', 'latvia', 'lithuania', 'luxembourg', 'mexico', 'netherlands', 'new zealand', 'norway', 'poland', 'portugal', 'slovakia', 'slovenia', 'spain', 'sweden', 'switzerland', 'turkey', 'united kingdom', 'usa', 'rep. of korea']\n",
    "breiger_commodity = [0, 2, 3, 6]\n",
    "oecd_countries = ['austria', 'belgium', 'canada', 'denmark', 'france', 'germany', 'greece', 'iceland', 'ireland', 'luxembourg','netherlands', 'norway', 'portugal', 'spain', 'sweden', 'switzerland', 'turkey', 'united kingdom', 'usa', 'italy', 'japan', 'finland', 'australia', 'israel']\n",
    "#countries = ['australia', 'austria', 'belgium', 'canada', 'denmark', 'finland', 'france', 'germany', 'greece', 'hungary', 'iceland', 'ireland', 'israel', 'italy', 'japan', 'latvia', 'lithuania', 'luxembourg', 'netherlands', 'norway', 'poland', 'portugal', 'spain', 'sweden', 'switzerland', 'turkey', 'united kingdom', 'usa']"
   ]
  },
  {
   "cell_type": "code",
   "execution_count": 3,
   "metadata": {},
   "outputs": [],
   "source": [
    "# Combine all files\n",
    "path = r'C:\\Users\\Dhruval\\Documents\\MACSS\\2019_Autumn\\Network Analysis\\NetworkAnalysis_Project\\Raw Data 2018' # use your path\n",
    "all_files = glob.glob(path + \"/*.csv\")\n",
    "\n",
    "li = []\n",
    "\n",
    "for filename in all_files:\n",
    "    df = pd.read_csv(filename, index_col=None, header=0)\n",
    "    li.append(df)\n",
    "\n",
    "data = pd.concat(li, axis=0, ignore_index=True)"
   ]
  },
  {
   "cell_type": "code",
   "execution_count": 4,
   "metadata": {},
   "outputs": [],
   "source": [
    "#Drop Columns\n",
    "data.drop(columns=['Classification', 'Period', 'Period Desc.', 'Aggregate Level',\n",
    "       'Is Leaf Code','Reporter Code', 'Reporter ISO', 'Partner Code', 'Partner ISO',\n",
    "       '2nd Partner Code', '2nd Partner', '2nd Partner ISO',\n",
    "       'Customs Proc. Code', 'Customs', 'Mode of Transport Code', 'Trade Flow Code', \n",
    "       'Mode of Transport', 'Qty Unit Code',\n",
    "       'Qty Unit', 'Qty', 'Alt Qty Unit Code', 'Alt Qty Unit', 'Alt Qty',\n",
    "       'Netweight (kg)', 'Gross weight (kg)', 'CIF Trade Value (US$)', 'FOB Trade Value (US$)', 'Flag'], inplace=True)"
   ]
  },
  {
   "cell_type": "code",
   "execution_count": 5,
   "metadata": {},
   "outputs": [],
   "source": [
    "#lower the strings\n",
    "data['Reporter'] = data['Reporter'].str.lower()\n",
    "data['Partner'] = data['Partner'].str.lower()\n",
    "data['Trade Flow'] = data['Trade Flow'].str.lower()\n",
    "\n",
    "#Remove all re-imports\n",
    "data = data.drop(data[data['Trade Flow'] == 're-import'].index)\n",
    "\n",
    "#Remove countries that are not in the list\n",
    "data = data[data['Partner'].isin(oecd_countries)]\n",
    "#Remove countries that are not in the list\n",
    "data = data[data['Reporter'].isin(oecd_countries)]"
   ]
  },
  {
   "cell_type": "code",
   "execution_count": 6,
   "metadata": {},
   "outputs": [],
   "source": [
    "data_matrix = data.groupby(['Reporter', 'Partner'],as_index = False)['Trade Value (US$)'].sum().pivot('Reporter', 'Partner').fillna(0)\n",
    "data_matrix.columns = data_matrix.columns.droplevel(0)\n",
    "del data_matrix.index.name\n",
    "\n",
    "#Save full dataset to file\n",
    "data_matrix.to_csv(r'C:\\Users\\Dhruval\\Documents\\MACSS\\2019_Autumn\\Network Analysis\\NetworkAnalysis_Project\\Raw Data 2018\\matrix\\data_matrix.csv', index=True)"
   ]
  },
  {
   "cell_type": "code",
   "execution_count": 38,
   "metadata": {},
   "outputs": [],
   "source": [
    "df_t = data_matrix.T"
   ]
  },
  {
   "cell_type": "code",
   "execution_count": 35,
   "metadata": {},
   "outputs": [],
   "source": [
    "df_t[df_t[]]"
   ]
  },
  {
   "cell_type": "code",
   "execution_count": 37,
   "metadata": {},
   "outputs": [],
   "source": [
    "a5= 1.710612e+09"
   ]
  },
  {
   "cell_type": "code",
   "execution_count": null,
   "metadata": {},
   "outputs": [],
   "source": [
    "data_matrix["
   ]
  },
  {
   "cell_type": "code",
   "execution_count": 7,
   "metadata": {},
   "outputs": [],
   "source": [
    "data_export = data[data['Trade Flow'] == 'export']\n",
    "\n",
    "#Create Export Matrix File\n",
    "\n",
    "ex_matrix = data_export.groupby(['Reporter', 'Partner'],as_index = False)['Trade Value (US$)'].sum().pivot('Reporter', 'Partner').fillna(0)\n",
    "ex_matrix.columns = ex_matrix.columns.droplevel(0)\n",
    "del ex_matrix.index.name\n",
    "\n",
    "#Save full dataset to file\n",
    "ex_matrix.to_csv(r'C:\\Users\\Dhruval\\Documents\\MACSS\\2019_Autumn\\Network Analysis\\NetworkAnalysis_Project\\Raw Data 2018\\matrix\\ex_matrix.csv', index=True)"
   ]
  },
  {
   "cell_type": "code",
   "execution_count": 8,
   "metadata": {},
   "outputs": [],
   "source": [
    "data_import = data[data['Trade Flow'] == 'import']\n",
    "\n",
    "#Create Import Matrix File \n",
    "\n",
    "im_matrix = data_import.groupby(['Reporter', 'Partner'],as_index = False)['Trade Value (US$)'].sum().pivot('Reporter', 'Partner').fillna(0)\n",
    "im_matrix.columns = im_matrix.columns.droplevel(0)\n",
    "del im_matrix.index.name\n",
    "\n",
    "#Save full dataset to file\n",
    "im_matrix.to_csv(r'C:\\Users\\Dhruval\\Documents\\MACSS\\2019_Autumn\\Network Analysis\\NetworkAnalysis_Project\\Raw Data 2018\\matrix\\im_matrix.csv', index=True)"
   ]
  },
  {
   "cell_type": "code",
   "execution_count": 9,
   "metadata": {},
   "outputs": [],
   "source": [
    "agr_data = data[data['Commodity Code'] == 0]\n",
    "agr_matrix = agr_data.groupby(['Reporter', 'Partner'],as_index = False)['Trade Value (US$)'].sum().pivot('Reporter', 'Partner').fillna(0)\n",
    "agr_matrix.columns = agr_matrix.columns.droplevel(0)\n",
    "del agr_matrix.index.name\n",
    "\n",
    "#Save full dataset to file\n",
    "agr_matrix.to_csv(r'C:\\Users\\Dhruval\\Documents\\MACSS\\2019_Autumn\\Network Analysis\\NetworkAnalysis_Project\\Raw Data 2018\\matrix\\agr_m.csv', index=True)"
   ]
  },
  {
   "cell_type": "code",
   "execution_count": 10,
   "metadata": {},
   "outputs": [],
   "source": [
    "raw_data = data[data['Commodity Code'] == 2]\n",
    "raw_matrix = raw_data.groupby(['Reporter', 'Partner'],as_index = False)['Trade Value (US$)'].sum().pivot('Reporter', 'Partner').fillna(0)\n",
    "raw_matrix.columns = raw_matrix.columns.droplevel(0)\n",
    "del raw_matrix.index.name\n",
    "\n",
    "#Save full dataset to file\n",
    "raw_matrix.to_csv(r'C:\\Users\\Dhruval\\Documents\\MACSS\\2019_Autumn\\Network Analysis\\NetworkAnalysis_Project\\Raw Data 2018\\matrix\\raw_m.csv', index=True)"
   ]
  },
  {
   "cell_type": "code",
   "execution_count": 11,
   "metadata": {},
   "outputs": [],
   "source": [
    "man_data = data[data['Commodity Code'] == 6]\n",
    "man_matrix = man_data.groupby(['Reporter', 'Partner'],as_index = False)['Trade Value (US$)'].sum().pivot('Reporter', 'Partner').fillna(0)\n",
    "man_matrix.columns = man_matrix.columns.droplevel(0)\n",
    "del man_matrix.index.name\n",
    "\n",
    "#Save full dataset to file\n",
    "man_matrix.to_csv(r'C:\\Users\\Dhruval\\Documents\\MACSS\\2019_Autumn\\Network Analysis\\NetworkAnalysis_Project\\Raw Data 2018\\matrix\\man_m.csv', index=True)"
   ]
  },
  {
   "cell_type": "code",
   "execution_count": 12,
   "metadata": {},
   "outputs": [],
   "source": [
    "enr_data = data[data['Commodity Code'] == 3]\n",
    "enr_matrix = enr_data.groupby(['Reporter', 'Partner'],as_index = False)['Trade Value (US$)'].sum().pivot('Reporter', 'Partner').fillna(0)\n",
    "enr_matrix.columns = enr_matrix.columns.droplevel(0)\n",
    "del enr_matrix.index.name\n",
    "\n",
    "#Save full dataset to file\n",
    "enr_matrix.to_csv(r'C:\\Users\\Dhruval\\Documents\\MACSS\\2019_Autumn\\Network Analysis\\NetworkAnalysis_Project\\Raw Data 2018\\matrix\\enr_m.csv', index=True)"
   ]
  },
  {
   "cell_type": "code",
   "execution_count": null,
   "metadata": {},
   "outputs": [],
   "source": []
  }
 ],
 "metadata": {
  "kernelspec": {
   "display_name": "Python 3",
   "language": "python",
   "name": "python3"
  },
  "language_info": {
   "codemirror_mode": {
    "name": "ipython",
    "version": 3
   },
   "file_extension": ".py",
   "mimetype": "text/x-python",
   "name": "python",
   "nbconvert_exporter": "python",
   "pygments_lexer": "ipython3",
   "version": "3.7.0"
  }
 },
 "nbformat": 4,
 "nbformat_minor": 2
}
